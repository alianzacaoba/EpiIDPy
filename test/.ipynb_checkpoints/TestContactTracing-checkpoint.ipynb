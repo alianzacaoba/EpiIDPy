{
 "cells": [
  {
   "cell_type": "code",
   "execution_count": null,
   "metadata": {},
   "outputs": [],
   "source": [
    "!pip install handcalcs"
   ]
  },
  {
   "cell_type": "code",
   "execution_count": 1,
   "metadata": {},
   "outputs": [
    {
     "ename": "ModuleNotFoundError",
     "evalue": "No module named 'handcalcs'",
     "output_type": "error",
     "traceback": [
      "\u001b[1;31m---------------------------------------------------------------------------\u001b[0m",
      "\u001b[1;31mModuleNotFoundError\u001b[0m                       Traceback (most recent call last)",
      "\u001b[1;32m<ipython-input-1-f54d4e87b4cb>\u001b[0m in \u001b[0;36m<module>\u001b[1;34m\u001b[0m\n\u001b[0;32m      7\u001b[0m \u001b[1;32mimport\u001b[0m \u001b[0mpandas\u001b[0m \u001b[1;32mas\u001b[0m \u001b[0mpd\u001b[0m\u001b[1;33m\u001b[0m\u001b[1;33m\u001b[0m\u001b[0m\n\u001b[0;32m      8\u001b[0m \u001b[1;32mimport\u001b[0m \u001b[0mnumpy\u001b[0m \u001b[1;32mas\u001b[0m \u001b[0mnp\u001b[0m\u001b[1;33m\u001b[0m\u001b[1;33m\u001b[0m\u001b[0m\n\u001b[1;32m----> 9\u001b[1;33m \u001b[1;32mimport\u001b[0m \u001b[0mhandcalcs\u001b[0m\u001b[1;33m.\u001b[0m\u001b[0mrender\u001b[0m\u001b[1;33m\u001b[0m\u001b[1;33m\u001b[0m\u001b[0m\n\u001b[0m\u001b[0;32m     10\u001b[0m \u001b[1;32mfrom\u001b[0m \u001b[0mtyping\u001b[0m \u001b[1;32mimport\u001b[0m \u001b[0mList\u001b[0m\u001b[1;33m\u001b[0m\u001b[1;33m\u001b[0m\u001b[0m\n\u001b[0;32m     11\u001b[0m \u001b[1;32mfrom\u001b[0m \u001b[0mnumpy\u001b[0m \u001b[1;32mimport\u001b[0m \u001b[0mdouble\u001b[0m\u001b[1;33m\u001b[0m\u001b[1;33m\u001b[0m\u001b[0m\n",
      "\u001b[1;31mModuleNotFoundError\u001b[0m: No module named 'handcalcs'"
     ]
    }
   ],
   "source": [
    "import io\n",
    "import sys\n",
    "import seaborn as sns\n",
    "PATH = 'C:/Users/Edwin Puertas/OneDrive - Pontificia Universidad Javeriana/AppsCAOBA\\sirpy'\n",
    "sys.path.append(PATH) if PATH not in list(sys.path) else None\n",
    "import time\n",
    "import pandas as pd\n",
    "import numpy as np\n",
    "import handcalcs.render\n",
    "from typing import List\n",
    "from numpy import double\n",
    "import seaborn as sns\n",
    "from logic.compartments import Compartments\n",
    "from logic.disease_model import DiseaseModel\n",
    "from logic.transitions import Transitions\n",
    "from logic.contact_tracing import ContactTracing\n",
    "from logic.settings import arg, DAYS, GAMMA, age_groups, R0"
   ]
  },
  {
   "cell_type": "code",
   "execution_count": null,
   "metadata": {},
   "outputs": [],
   "source": [
    "start_time = time.time()\n",
    "susc = Compartments(name='susceptible')\n",
    "expo = Compartments(name='exposed')\n",
    "iinf = Compartments(name='infectious_symptoms')\n",
    "rec = Compartments(name='recovered')\n",
    "dead = Compartments(name='dead')\n",
    "# susc_expo = Transitions(rate=0.2, probability=0.5, org=susc, dest=expo).value\n",
    "\n",
    "compartments = [susc, expo, iinf, rec]\n",
    "transitions = []"
   ]
  },
  {
   "cell_type": "code",
   "execution_count": 2,
   "metadata": {},
   "outputs": [
    {
     "ename": "NameError",
     "evalue": "name 'age_groups' is not defined",
     "output_type": "error",
     "traceback": [
      "\u001b[1;31m---------------------------------------------------------------------------\u001b[0m",
      "\u001b[1;31mNameError\u001b[0m                                 Traceback (most recent call last)",
      "\u001b[1;32m<ipython-input-2-7410abea7d0c>\u001b[0m in \u001b[0;36m<module>\u001b[1;34m\u001b[0m\n\u001b[0;32m      1\u001b[0m \u001b[0mresult\u001b[0m \u001b[1;33m=\u001b[0m \u001b[1;33m[\u001b[0m\u001b[1;33m]\u001b[0m\u001b[1;33m\u001b[0m\u001b[1;33m\u001b[0m\u001b[0m\n\u001b[1;32m----> 2\u001b[1;33m \u001b[1;32mfor\u001b[0m \u001b[0mkey\u001b[0m\u001b[1;33m,\u001b[0m \u001b[0mvalue\u001b[0m \u001b[1;32min\u001b[0m \u001b[0mage_groups\u001b[0m\u001b[1;33m.\u001b[0m\u001b[0mitems\u001b[0m\u001b[1;33m(\u001b[0m\u001b[1;33m)\u001b[0m\u001b[1;33m:\u001b[0m\u001b[1;33m\u001b[0m\u001b[1;33m\u001b[0m\u001b[0m\n\u001b[0m\u001b[0;32m      3\u001b[0m     \u001b[0mdict_temp\u001b[0m \u001b[1;33m=\u001b[0m \u001b[1;33m{\u001b[0m\u001b[1;34m'age_group'\u001b[0m\u001b[1;33m:\u001b[0m \u001b[0mkey\u001b[0m\u001b[1;33m}\u001b[0m\u001b[1;33m\u001b[0m\u001b[1;33m\u001b[0m\u001b[0m\n\u001b[0;32m      4\u001b[0m     \u001b[0mct\u001b[0m \u001b[1;33m=\u001b[0m \u001b[0mContactTracing\u001b[0m\u001b[1;33m(\u001b[0m\u001b[0m_compartments\u001b[0m\u001b[1;33m=\u001b[0m\u001b[0mcompartments\u001b[0m\u001b[1;33m,\u001b[0m \u001b[0m_transitions\u001b[0m\u001b[1;33m=\u001b[0m\u001b[0mtransitions\u001b[0m\u001b[1;33m,\u001b[0m \u001b[0m_gamma\u001b[0m\u001b[1;33m=\u001b[0m\u001b[0mGAMMA\u001b[0m\u001b[1;33m,\u001b[0m \u001b[0m_beta\u001b[0m\u001b[1;33m=\u001b[0m\u001b[0mvalue\u001b[0m\u001b[1;33m)\u001b[0m\u001b[1;33m\u001b[0m\u001b[1;33m\u001b[0m\u001b[0m\n\u001b[0;32m      5\u001b[0m     \u001b[0mresp\u001b[0m \u001b[1;33m=\u001b[0m \u001b[0mct\u001b[0m\u001b[1;33m.\u001b[0m\u001b[0mresult\u001b[0m\u001b[1;33m(\u001b[0m\u001b[0marg\u001b[0m\u001b[1;33m=\u001b[0m\u001b[0marg\u001b[0m\u001b[1;33m,\u001b[0m \u001b[0mdays\u001b[0m\u001b[1;33m=\u001b[0m\u001b[0mDAYS\u001b[0m\u001b[1;33m,\u001b[0m \u001b[0mr0\u001b[0m\u001b[1;33m=\u001b[0m\u001b[0mR0\u001b[0m\u001b[1;33m)\u001b[0m\u001b[1;33m\u001b[0m\u001b[1;33m\u001b[0m\u001b[0m\n",
      "\u001b[1;31mNameError\u001b[0m: name 'age_groups' is not defined"
     ]
    }
   ],
   "source": [
    "result = []\n",
    "for key, value in age_groups.items():\n",
    "    dict_temp = {'age_group': key}\n",
    "    ct = ContactTracing(_compartments=compartments, _transitions=transitions, _gamma=GAMMA, _beta=value)\n",
    "    resp = ct.result(arg=arg, days=DAYS, r0=R0)\n",
    "    dict_temp.update({item['_name']: item['_result'] for item in resp})\n",
    "    result.append(dict_temp)\n",
    "\n",
    "print(result)\n",
    "# Calculated Time processing\n",
    "t_sec = round(time.time() - start_time)\n",
    "(t_min, t_sec) = divmod(t_sec, 60)\n",
    "(t_hour, t_min) = divmod(t_min, 60)\n",
    "time_processing = '{} hour:{} min:{} sec'.format(t_hour, t_min, t_sec)\n",
    "print('Time processing: {0}'.format(time_processing))"
   ]
  },
  {
   "cell_type": "code",
   "execution_count": 42,
   "metadata": {},
   "outputs": [],
   "source": [
    "df = pd.DataFrame(result, columns =['age_group', 'susceptible', 'exposed', 'infectious_symptoms', 'recovered'])"
   ]
  },
  {
   "cell_type": "code",
   "execution_count": 43,
   "metadata": {},
   "outputs": [
    {
     "data": {
      "text/html": [
       "<div>\n",
       "<style scoped>\n",
       "    .dataframe tbody tr th:only-of-type {\n",
       "        vertical-align: middle;\n",
       "    }\n",
       "\n",
       "    .dataframe tbody tr th {\n",
       "        vertical-align: top;\n",
       "    }\n",
       "\n",
       "    .dataframe thead th {\n",
       "        text-align: right;\n",
       "    }\n",
       "</style>\n",
       "<table border=\"1\" class=\"dataframe\">\n",
       "  <thead>\n",
       "    <tr style=\"text-align: right;\">\n",
       "      <th></th>\n",
       "      <th>age_group</th>\n",
       "      <th>susceptible</th>\n",
       "      <th>exposed</th>\n",
       "      <th>infectious_symptoms</th>\n",
       "      <th>recovered</th>\n",
       "    </tr>\n",
       "  </thead>\n",
       "  <tbody>\n",
       "    <tr>\n",
       "      <th>0</th>\n",
       "      <td>0–4</td>\n",
       "      <td>[39000000.0, -8.458434474746828e-10, -7.013538...</td>\n",
       "      <td>[8000000.0, 41664341.702121146, 36934407.01291...</td>\n",
       "      <td>[2000000.0, 17296837.510960788, 29782628.49127...</td>\n",
       "      <td>[0.0, 710137.3826752339, 2414150.469955659, 49...</td>\n",
       "    </tr>\n",
       "    <tr>\n",
       "      <th>1</th>\n",
       "      <td>5-14</td>\n",
       "      <td>[39000000.0, -1.5855514135570959e-09, -1.54677...</td>\n",
       "      <td>[8000000.0, 40835915.08468995, 35480249.566803...</td>\n",
       "      <td>[2000000.0, 19691213.29592156, 33819564.093089...</td>\n",
       "      <td>[0.0, 801041.4500191535, 2739687.206531729, 55...</td>\n",
       "    </tr>\n",
       "    <tr>\n",
       "      <th>2</th>\n",
       "      <td>15-24</td>\n",
       "      <td>[39000000.0, -1.5855514135570959e-09, -1.54677...</td>\n",
       "      <td>[8000000.0, 40835915.08468995, 35480249.566803...</td>\n",
       "      <td>[2000000.0, 19691213.29592156, 33819564.093089...</td>\n",
       "      <td>[0.0, 801041.4500191535, 2739687.206531729, 55...</td>\n",
       "    </tr>\n",
       "    <tr>\n",
       "      <th>3</th>\n",
       "      <td>25-34</td>\n",
       "      <td>[39000000.0, -1.5855514135570959e-09, -1.54677...</td>\n",
       "      <td>[8000000.0, 40835915.08468995, 35480249.566803...</td>\n",
       "      <td>[2000000.0, 19691213.29592156, 33819564.093089...</td>\n",
       "      <td>[0.0, 801041.4500191535, 2739687.206531729, 55...</td>\n",
       "    </tr>\n",
       "    <tr>\n",
       "      <th>4</th>\n",
       "      <td>35-44</td>\n",
       "      <td>[39000000.0, -1.5855514135570959e-09, -1.54677...</td>\n",
       "      <td>[8000000.0, 40835915.08468995, 35480249.566803...</td>\n",
       "      <td>[2000000.0, 19691213.29592156, 33819564.093089...</td>\n",
       "      <td>[0.0, 801041.4500191535, 2739687.206531729, 55...</td>\n",
       "    </tr>\n",
       "    <tr>\n",
       "      <th>5</th>\n",
       "      <td>45-54</td>\n",
       "      <td>[39000000.0, -1.5855514135570959e-09, -1.54677...</td>\n",
       "      <td>[8000000.0, 40835915.08468995, 35480249.566803...</td>\n",
       "      <td>[2000000.0, 19691213.29592156, 33819564.093089...</td>\n",
       "      <td>[0.0, 801041.4500191535, 2739687.206531729, 55...</td>\n",
       "    </tr>\n",
       "    <tr>\n",
       "      <th>6</th>\n",
       "      <td>55-64</td>\n",
       "      <td>[39000000.0, -8.458434474746828e-10, -7.013538...</td>\n",
       "      <td>[8000000.0, 41664341.702121146, 36934407.01291...</td>\n",
       "      <td>[2000000.0, 17296837.510960788, 29782628.49127...</td>\n",
       "      <td>[0.0, 710137.3826752339, 2414150.469955659, 49...</td>\n",
       "    </tr>\n",
       "    <tr>\n",
       "      <th>7</th>\n",
       "      <td>65+</td>\n",
       "      <td>[39000000.0, -3.335725228360767e-14, -4.259974...</td>\n",
       "      <td>[8000000.0, 38448163.068101436, 31452362.51760...</td>\n",
       "      <td>[2000000.0, 26588898.344888993, 44976641.47120...</td>\n",
       "      <td>[0.0, 1066612.4507820597, 3666270.9759576935, ...</td>\n",
       "    </tr>\n",
       "  </tbody>\n",
       "</table>\n",
       "</div>"
      ],
      "text/plain": [
       "  age_group                                        susceptible  \\\n",
       "0       0–4  [39000000.0, -8.458434474746828e-10, -7.013538...   \n",
       "1      5-14  [39000000.0, -1.5855514135570959e-09, -1.54677...   \n",
       "2     15-24  [39000000.0, -1.5855514135570959e-09, -1.54677...   \n",
       "3     25-34  [39000000.0, -1.5855514135570959e-09, -1.54677...   \n",
       "4     35-44  [39000000.0, -1.5855514135570959e-09, -1.54677...   \n",
       "5     45-54  [39000000.0, -1.5855514135570959e-09, -1.54677...   \n",
       "6     55-64  [39000000.0, -8.458434474746828e-10, -7.013538...   \n",
       "7       65+  [39000000.0, -3.335725228360767e-14, -4.259974...   \n",
       "\n",
       "                                             exposed  \\\n",
       "0  [8000000.0, 41664341.702121146, 36934407.01291...   \n",
       "1  [8000000.0, 40835915.08468995, 35480249.566803...   \n",
       "2  [8000000.0, 40835915.08468995, 35480249.566803...   \n",
       "3  [8000000.0, 40835915.08468995, 35480249.566803...   \n",
       "4  [8000000.0, 40835915.08468995, 35480249.566803...   \n",
       "5  [8000000.0, 40835915.08468995, 35480249.566803...   \n",
       "6  [8000000.0, 41664341.702121146, 36934407.01291...   \n",
       "7  [8000000.0, 38448163.068101436, 31452362.51760...   \n",
       "\n",
       "                                 infectious_symptoms  \\\n",
       "0  [2000000.0, 17296837.510960788, 29782628.49127...   \n",
       "1  [2000000.0, 19691213.29592156, 33819564.093089...   \n",
       "2  [2000000.0, 19691213.29592156, 33819564.093089...   \n",
       "3  [2000000.0, 19691213.29592156, 33819564.093089...   \n",
       "4  [2000000.0, 19691213.29592156, 33819564.093089...   \n",
       "5  [2000000.0, 19691213.29592156, 33819564.093089...   \n",
       "6  [2000000.0, 17296837.510960788, 29782628.49127...   \n",
       "7  [2000000.0, 26588898.344888993, 44976641.47120...   \n",
       "\n",
       "                                           recovered  \n",
       "0  [0.0, 710137.3826752339, 2414150.469955659, 49...  \n",
       "1  [0.0, 801041.4500191535, 2739687.206531729, 55...  \n",
       "2  [0.0, 801041.4500191535, 2739687.206531729, 55...  \n",
       "3  [0.0, 801041.4500191535, 2739687.206531729, 55...  \n",
       "4  [0.0, 801041.4500191535, 2739687.206531729, 55...  \n",
       "5  [0.0, 801041.4500191535, 2739687.206531729, 55...  \n",
       "6  [0.0, 710137.3826752339, 2414150.469955659, 49...  \n",
       "7  [0.0, 1066612.4507820597, 3666270.9759576935, ...  "
      ]
     },
     "execution_count": 43,
     "metadata": {},
     "output_type": "execute_result"
    }
   ],
   "source": [
    "df"
   ]
  },
  {
   "cell_type": "code",
   "execution_count": null,
   "metadata": {},
   "outputs": [],
   "source": []
  }
 ],
 "metadata": {
  "kernelspec": {
   "display_name": "Python 3",
   "language": "python",
   "name": "python3"
  },
  "language_info": {
   "codemirror_mode": {
    "name": "ipython",
    "version": 3
   },
   "file_extension": ".py",
   "mimetype": "text/x-python",
   "name": "python",
   "nbconvert_exporter": "python",
   "pygments_lexer": "ipython3",
   "version": "3.8.3"
  }
 },
 "nbformat": 4,
 "nbformat_minor": 4
}
